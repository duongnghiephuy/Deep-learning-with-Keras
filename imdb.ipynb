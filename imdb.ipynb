{
  "nbformat": 4,
  "nbformat_minor": 0,
  "metadata": {
    "colab": {
      "name": "imdb.ipynb",
      "provenance": [],
      "include_colab_link": true
    },
    "kernelspec": {
      "name": "python3",
      "display_name": "Python 3"
    }
  },
  "cells": [
    {
      "cell_type": "markdown",
      "metadata": {
        "id": "view-in-github",
        "colab_type": "text"
      },
      "source": [
        "<a href=\"https://colab.research.google.com/github/duongnghiephuy/Practice-Simple-Deep-learning/blob/master/imdb.ipynb\" target=\"_parent\"><img src=\"https://colab.research.google.com/assets/colab-badge.svg\" alt=\"Open In Colab\"/></a>"
      ]
    },
    {
      "cell_type": "code",
      "metadata": {
        "id": "jN-RYdnAdLJS",
        "colab_type": "code",
        "outputId": "9b07f32d-109c-4d2b-c0e8-a6456ce001df",
        "colab": {
          "base_uri": "https://localhost:8080/",
          "height": 34
        }
      },
      "source": [
        "from keras.datasets import imdb\n",
        "from keras.utils import to_categorical\n",
        "import numpy as np\n",
        "from keras import models\n",
        "from keras import layers\n"
      ],
      "execution_count": 1,
      "outputs": [
        {
          "output_type": "stream",
          "text": [
            "Using TensorFlow backend.\n"
          ],
          "name": "stderr"
        }
      ]
    },
    {
      "cell_type": "markdown",
      "metadata": {
        "id": "kZXyptmCvsPU",
        "colab_type": "text"
      },
      "source": [
        "We make use of the imdb dataset packed in Keras that contains film reviews.\n",
        "The aim is to set up a model that can learn to classify reviews by sentiments(positive or negative.)\n",
        "\n"
      ]
    },
    {
      "cell_type": "code",
      "metadata": {
        "id": "l8W2lznBdciw",
        "colab_type": "code",
        "outputId": "cd1acda3-2fcf-4b29-ee4b-b27a4d6175c9",
        "colab": {
          "base_uri": "https://localhost:8080/",
          "height": 52
        }
      },
      "source": [
        "(train_data,train_label),(test_data,test_label)=imdb.load_data(num_words=10000)\n",
        "print(\"Shape of train data\",train_data.shape)\n",
        "print(\"Shape of test data\",test_data.shape)\n",
        "\n"
      ],
      "execution_count": 5,
      "outputs": [
        {
          "output_type": "stream",
          "text": [
            "Shape of train data (25000,)\n",
            "Shape of test data (25000,)\n"
          ],
          "name": "stdout"
        }
      ]
    },
    {
      "cell_type": "markdown",
      "metadata": {
        "id": "z3Xan2lTwHKF",
        "colab_type": "text"
      },
      "source": [
        "We load the train and test set. The keyword num_words=10000 means we only import words that are 1000 most frequently used.\n"
      ]
    },
    {
      "cell_type": "code",
      "metadata": {
        "id": "tBrJiWwwfWr4",
        "colab_type": "code",
        "outputId": "bb89f5db-b5c4-4d52-db87-d3d98c6b95f5",
        "colab": {
          "base_uri": "https://localhost:8080/",
          "height": 90
        }
      },
      "source": [
        "x=imdb.get_word_index()\n",
        "reverse={value:key for (key,value) in x.items()}\n",
        "decode=\" \".join(reverse.get(i-3,\"?\") for i in train_data[0])\n",
        "print(\"The first data point is:\\n\",decode)\n",
        "print(\"The label is\", train_label[0],\": positive\")\n",
        "  \n",
        "\n",
        "\n",
        "  "
      ],
      "execution_count": 6,
      "outputs": [
        {
          "output_type": "stream",
          "text": [
            "The first data point is:\n",
            " ? this film was just brilliant casting location scenery story direction everyone's really suited the part they played and you could just imagine being there robert ? is an amazing actor and now the same being director ? father came from the same scottish island as myself so i loved the fact there was a real connection with this film the witty remarks throughout the film were great it was just brilliant so much that i bought the film as soon as it was released for ? and would recommend it to everyone to watch and the fly fishing was amazing really cried at the end it was so sad and you know what they say if you cry at a film it must have been good and this definitely was also ? to the two little boy's that played the ? of norman and paul they were just brilliant children are often left out of the ? list i think because the stars that play them all grown up are such a big profile for the whole film but these children are amazing and should be praised for what they have done don't you think the whole story was so lovely because it was true and was someone's life after all that was shared with us all\n",
            "The label is 1 : positive\n"
          ],
          "name": "stdout"
        }
      ]
    },
    {
      "cell_type": "markdown",
      "metadata": {
        "id": "b7YdggDDxJdo",
        "colab_type": "text"
      },
      "source": [
        "We take a look at the train data. As the reviews are encoded, wehave to decode to see the original reviews. "
      ]
    },
    {
      "cell_type": "code",
      "metadata": {
        "id": "HMHkRpFYksNu",
        "colab_type": "code",
        "colab": {}
      },
      "source": [
        "def vectorize_sequence(sequences,dimension=10000):\n",
        "  results=np.zeros((len(sequences),dimension))\n",
        "  for i,sequence in enumerate(sequences):\n",
        "    results[i,sequence]=1\n",
        "  return results\n",
        "\n",
        "train=vectorize_sequence(train_data)\n",
        "test=vectorize_sequence(test_data)\n",
        "\n",
        "train_label=np.asarray(train_label).astype(\"float32\")\n",
        "test_label=np.asarray(test_label).astype(\"float32\")\n",
        "\n",
        "train_val=train[:10000]\n",
        "partial_data=train[10000:]\n",
        "label_val=train_label[:10000]\n",
        "partial_label=train_label[10000:]\n",
        "\n"
      ],
      "execution_count": 0,
      "outputs": []
    },
    {
      "cell_type": "markdown",
      "metadata": {
        "id": "Wusl6W94x_7Y",
        "colab_type": "text"
      },
      "source": [
        "As the data is not in the form of proper 2D float tensor, we have to one-hot code the data. Only 10000 most common words are used so the 2D float tensor is of shape((len(data),10000)).\n",
        "Each transformed data point X then is a vector of 0 and 1 such that X[i]=1 if i appears in the original data point. \n",
        "\n",
        "The training set is cut into a partial training set and a validation set. The validation set is used as an indication of trained model's generalization power that we can try to improve. \n"
      ]
    },
    {
      "cell_type": "code",
      "metadata": {
        "id": "48k9EW9-LRfh",
        "colab_type": "code",
        "colab": {}
      },
      "source": [
        "from keras import regularizers"
      ],
      "execution_count": 0,
      "outputs": []
    },
    {
      "cell_type": "markdown",
      "metadata": {
        "id": "YiTjcRw70g2J",
        "colab_type": "text"
      },
      "source": [
        "The model structure is a linear stack of Denses layer.\n",
        "- The output unit utilizes sigmoid function to output a single value which is the probability of belonging to class 1.\n",
        "\n",
        "To improve accuracy:\n",
        "- Tweak the layers' capacity(dimension of layers' output). A low capacity cannot capture predictive representations, resulting in underfitting.\n",
        "- Regularizer is used as a constrain so that the model tends to learn a simple model(small weights). In fact, it is a constrain of the optimization process.\n",
        "    + L1:\n",
        "    + L2:\n",
        "    \n",
        "  After a few runs of both L1 and L2 with different parameters, l1(0.001) produces the best result."
      ]
    },
    {
      "cell_type": "code",
      "metadata": {
        "id": "K1pmMnfswwxq",
        "colab_type": "code",
        "outputId": "c7e3205f-7f6e-489c-8d1a-c937f1e493ca",
        "colab": {
          "base_uri": "https://localhost:8080/",
          "height": 562
        }
      },
      "source": [
        "network = models.Sequential()\n",
        "network.add(layers.Dense(64,activation=\"relu\",input_shape=(10000,),kernel_regularizer=regularizers.l1(0.001)),)\n",
        "\n",
        "network.add(layers.Dense(64,activation=\"relu\",kernel_regularizer=regularizers.l1(0.001)))\n",
        "\n",
        "network.add(layers.Dense(1,activation=\"sigmoid\"))\n",
        "network.compile(optimizer=\"rmsprop\",loss=\"binary_crossentropy\",metrics=[\"accuracy\"])\n",
        "history=network.fit(partial_data,partial_label,epochs=15,batch_size=512,validation_data=(train_val,label_val))\n"
      ],
      "execution_count": 0,
      "outputs": [
        {
          "output_type": "stream",
          "text": [
            "Train on 15000 samples, validate on 10000 samples\n",
            "Epoch 1/15\n",
            "15000/15000 [==============================] - 4s 263us/step - loss: 2.5497 - acc: 0.6823 - val_loss: 1.2542 - val_acc: 0.8136\n",
            "Epoch 2/15\n",
            "15000/15000 [==============================] - 2s 164us/step - loss: 1.2072 - acc: 0.7825 - val_loss: 1.1354 - val_acc: 0.8023\n",
            "Epoch 3/15\n",
            "15000/15000 [==============================] - 2s 163us/step - loss: 1.0916 - acc: 0.8135 - val_loss: 1.0219 - val_acc: 0.8324\n",
            "Epoch 4/15\n",
            "15000/15000 [==============================] - 2s 162us/step - loss: 0.9652 - acc: 0.8203 - val_loss: 0.9379 - val_acc: 0.7930\n",
            "Epoch 5/15\n",
            "15000/15000 [==============================] - 2s 161us/step - loss: 0.8703 - acc: 0.8303 - val_loss: 0.9051 - val_acc: 0.7918\n",
            "Epoch 6/15\n",
            "15000/15000 [==============================] - 2s 162us/step - loss: 0.8296 - acc: 0.8340 - val_loss: 0.7901 - val_acc: 0.8492\n",
            "Epoch 7/15\n",
            "15000/15000 [==============================] - 2s 165us/step - loss: 0.7886 - acc: 0.8451 - val_loss: 0.7778 - val_acc: 0.8446\n",
            "Epoch 8/15\n",
            "15000/15000 [==============================] - 2s 162us/step - loss: 0.7830 - acc: 0.8399 - val_loss: 0.7583 - val_acc: 0.8485\n",
            "Epoch 9/15\n",
            "15000/15000 [==============================] - 2s 162us/step - loss: 0.7610 - acc: 0.8435 - val_loss: 0.7504 - val_acc: 0.8465\n",
            "Epoch 10/15\n",
            "15000/15000 [==============================] - 2s 161us/step - loss: 0.7451 - acc: 0.8497 - val_loss: 0.7298 - val_acc: 0.8576\n",
            "Epoch 11/15\n",
            "15000/15000 [==============================] - 2s 163us/step - loss: 0.7324 - acc: 0.8523 - val_loss: 0.8019 - val_acc: 0.8063\n",
            "Epoch 12/15\n",
            "15000/15000 [==============================] - 2s 161us/step - loss: 0.7282 - acc: 0.8493 - val_loss: 0.7142 - val_acc: 0.8557\n",
            "Epoch 13/15\n",
            "15000/15000 [==============================] - 2s 161us/step - loss: 0.7159 - acc: 0.8551 - val_loss: 0.7460 - val_acc: 0.8307\n",
            "Epoch 14/15\n",
            "15000/15000 [==============================] - 2s 161us/step - loss: 0.7082 - acc: 0.8550 - val_loss: 0.7553 - val_acc: 0.8248\n",
            "Epoch 15/15\n",
            "15000/15000 [==============================] - 2s 161us/step - loss: 0.7027 - acc: 0.8554 - val_loss: 0.6950 - val_acc: 0.8561\n"
          ],
          "name": "stdout"
        }
      ]
    },
    {
      "cell_type": "code",
      "metadata": {
        "id": "LZgrxbax4EZH",
        "colab_type": "code",
        "outputId": "091408e1-3004-4517-de6d-1cce2cacae73",
        "colab": {
          "base_uri": "https://localhost:8080/",
          "height": 566
        }
      },
      "source": [
        "import matplotlib.pyplot as plt\n",
        "his_dict=history.history\n",
        "print(his_dict.keys())\n",
        "plt.plot(range(len(his_dict[\"loss\"])),his_dict[\"loss\"],label=\"Training loss\")\n",
        "plt.plot(range(len(his_dict[\"loss\"])),his_dict[\"val_loss\"],label=\"Validation loss\")\n",
        "plt.legend()\n",
        "plt.xlabel(\"Epochs\")\n",
        "plt.ylabel(\"Loss\")\n",
        "plt.show()\n",
        "plt.figure()\n",
        "plt.plot(range(len(his_dict[\"acc\"])),his_dict[\"acc\"],label=\"Training accuracy\")\n",
        "plt.plot(range(len(his_dict[\"val_acc\"])),his_dict[\"val_acc\"],label=\"Validation accuracy\")\n",
        "plt.legend()\n",
        "plt.xlabel(\"Epoch\")\n",
        "plt.ylabel(\"Accuracy\")\n",
        "plt.show()\n",
        "\n",
        "\n"
      ],
      "execution_count": 0,
      "outputs": [
        {
          "output_type": "stream",
          "text": [
            "dict_keys(['val_loss', 'val_acc', 'loss', 'acc'])\n"
          ],
          "name": "stdout"
        },
        {
          "output_type": "display_data",
          "data": {
            "image/png": "[encoded data removed]",
            "text/plain": [
              "<Figure size 432x288 with 1 Axes>"
            ]
          },
          "metadata": {
            "tags": []
          }
        },
        {
          "output_type": "display_data",
          "data": {
            "image/png": "[encoded data removed]",
            "text/plain": [
              "<Figure size 432x288 with 1 Axes>"
            ]
          },
          "metadata": {
            "tags": []
          }
        }
      ]
    },
    {
      "cell_type": "markdown",
      "metadata": {
        "id": "i1MAjIkR3-28",
        "colab_type": "text"
      },
      "source": [
        "We plot the training and validation process so that we can choose the epoch that yeilds the best result. The model starts overfitting after 4 epochs so we should stop training from there."
      ]
    },
    {
      "cell_type": "markdown",
      "metadata": {
        "id": "qc4cFspO4XHs",
        "colab_type": "text"
      },
      "source": [
        "Finally, the model is trained on the entire training set and with parameters found above.\n",
        "The test accuracy is quite good 86%."
      ]
    },
    {
      "cell_type": "code",
      "metadata": {
        "id": "1ZaE6_HUBTUI",
        "colab_type": "code",
        "outputId": "faa19aaf-b909-40cb-d019-f3760f70ae3c",
        "colab": {
          "base_uri": "https://localhost:8080/",
          "height": 193
        }
      },
      "source": [
        "network = models.Sequential()\n",
        "network.add(layers.Dense(16,activation=\"relu\",input_shape=(10000,)))\n",
        "network.add(layers.Dense(16,activation=\"relu\"))\n",
        "network.add(layers.Dense(1,activation=\"sigmoid\"))\n",
        "network.compile(optimizer=\"rmsprop\",loss=\"binary_crossentropy\",metrics=[\"accuracy\"])\n",
        "history=network.fit(train,train_label,epochs=4,batch_size=512)\n",
        "print(network.evaluate(test,test_label))"
      ],
      "execution_count": 0,
      "outputs": [
        {
          "output_type": "stream",
          "text": [
            "Epoch 1/4\n",
            "25000/25000 [==============================] - 4s 152us/step - loss: 0.5253 - acc: 0.7813\n",
            "Epoch 2/4\n",
            "25000/25000 [==============================] - 3s 100us/step - loss: 0.3713 - acc: 0.8538\n",
            "Epoch 3/4\n",
            "25000/25000 [==============================] - 2s 97us/step - loss: 0.3297 - acc: 0.8646\n",
            "Epoch 4/4\n",
            "25000/25000 [==============================] - 2s 98us/step - loss: 0.3155 - acc: 0.8693\n",
            "25000/25000 [==============================] - 3s 114us/step\n",
            "[0.33042319494247435, 0.86076]\n"
          ],
          "name": "stdout"
        }
      ]
    }
  ]
}