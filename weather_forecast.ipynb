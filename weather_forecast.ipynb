{
  "nbformat": 4,
  "nbformat_minor": 0,
  "metadata": {
    "colab": {
      "name": "weather_forecast.ipynb",
      "provenance": [],
      "collapsed_sections": [],
      "include_colab_link": true
    },
    "kernelspec": {
      "name": "python3",
      "display_name": "Python 3"
    }
  },
  "cells": [
    {
      "cell_type": "markdown",
      "metadata": {
        "id": "view-in-github",
        "colab_type": "text"
      },
      "source": [
        "<a href=\"https://colab.research.google.com/github/duongnghiephuy/Practice-Simple-Deep-learning/blob/master/weather_forecast.ipynb\" target=\"_parent\"><img src=\"https://colab.research.google.com/assets/colab-badge.svg\" alt=\"Open In Colab\"/></a>"
      ]
    },
    {
      "cell_type": "code",
      "metadata": {
        "id": "TG-zL-Fc9lwY",
        "colab_type": "code",
        "outputId": "df0d1c28-e933-44b4-df54-09d7ffc9b1e0",
        "colab": {
          "base_uri": "https://localhost:8080/",
          "height": 125
        }
      },
      "source": [
        "from google.colab import drive\n",
        "\n",
        "drive.mount('/content/gdrive')\n",
        "fname=\"/content/gdrive/My Drive/Practice/data/weather.csv\""
      ],
      "execution_count": 1,
      "outputs": [
        {
          "output_type": "stream",
          "text": [
            "Go to this URL in a browser: https://accounts.google.com/o/oauth2/auth?client_id=947318989803-6bn6qk8qdgf4n4g3pfee6491hc0brc4i.apps.googleusercontent.com&redirect_uri=urn%3Aietf%3Awg%3Aoauth%3A2.0%3Aoob&scope=email%20https%3A%2F%2Fwww.googleapis.com%2Fauth%2Fdocs.test%20https%3A%2F%2Fwww.googleapis.com%2Fauth%2Fdrive%20https%3A%2F%2Fwww.googleapis.com%2Fauth%2Fdrive.photos.readonly%20https%3A%2F%2Fwww.googleapis.com%2Fauth%2Fpeopleapi.readonly&response_type=code\n",
            "\n",
            "Enter your authorization code:\n",
            "··········\n",
            "Mounted at /content/gdrive\n"
          ],
          "name": "stdout"
        }
      ]
    },
    {
      "cell_type": "markdown",
      "metadata": {
        "id": "u4LdD3z8Ho1G",
        "colab_type": "text"
      },
      "source": [
        "If the model is trained on Google Colab:\n",
        "\n",
        "- The data should be stored in Google Drive. This code then is used to mount Drive so that directory of Drive can be accessed directly by path. \n",
        "\n"
      ]
    },
    {
      "cell_type": "markdown",
      "metadata": {
        "id": "uqIzPu1LJCeN",
        "colab_type": "text"
      },
      "source": [
        "The data is weather time series dataset provided on Max-Planck_Insitute website.\n",
        "It records the weather in WS Beutenberg from 01.07.2019 up to 17.10/2019. \n",
        "\n",
        "One measurement is taken every 10 minutes.\n",
        "\n",
        "**The model will learn to predict weather in the future given data in the past.**\n",
        "In our model, the target output is only predicted temperature.\n",
        "\n",
        "***The recurrent neural network is especially powerful tool to analyze timeseries data so we will make use of it.***"
      ]
    },
    {
      "cell_type": "code",
      "metadata": {
        "id": "4yCqzTDN9urk",
        "colab_type": "code",
        "outputId": "2a115f35-aa94-416a-a8b9-96a6ab3fe414",
        "colab": {
          "base_uri": "https://localhost:8080/",
          "height": 160
        }
      },
      "source": [
        "f=open(fname,\"r\")\n",
        "data=f.read()\n",
        "data=data.split(\"\\n\")\n",
        "header=data[0]\n",
        "data=data[1:-1]\n",
        "print(\"The header of the csv file is\\n:\",header)\n",
        "print(\"The length of data is\",len(data))\n",
        "print(\"The first data point is:\\n\",data[0])\n",
        "print(\"The data after 10 minutes is:\\n\",data[1])\n",
        "\n",
        "\n",
        "\n",
        "\n",
        "  "
      ],
      "execution_count": 5,
      "outputs": [
        {
          "output_type": "stream",
          "text": [
            "The header of the csv file is\n",
            ": ﻿\"Date Time\",\"p (mbar)\",\"T (degC)\",\"Tpot (K)\",\"Tdew (degC)\",\"rh (%)\",\"VPmax (mbar)\",\"VPact (mbar)\",\"VPdef (mbar)\",\"sh (g/kg)\",\"H2OC (mmol/mol)\",\"rho (g/m**3)\",\"wv (m/s)\",\"max. wv (m/s)\",\"wd (deg)\",\"rain (mm)\",\"raining (s)\",\"SWDR (W/m²)\",\"PAR (µmol/m²/s)\",\"max. PAR (µmol/m²/s)\",\"Tlog (degC)\",\"CO2 (ppm)\"\n",
            "The length of data is 26064\n",
            "The first data point is:\n",
            " 01.01.2019 00:10:00, 1003.45,    6.94,  279.82,    5.54,   90.80,    9.98,    9.07,    0.92,    5.64,    9.04, 1243.74,    1.92,    2.60,  243.90,    0.00,    0.00,    0.00,    0.00,    0.00,   18.45,  421.60\n",
            "The data after 10 minutes is:\n",
            " 01.01.2019 00:20:00, 1003.23,    6.94,  279.84,    5.50,   90.50,    9.99,    9.04,    0.95,    5.62,    9.01, 1243.47,    1.60,    2.72,  237.10,    0.00,    0.00,    0.00,    0.00,    0.00,   18.40,  420.60\n"
          ],
          "name": "stdout"
        }
      ]
    },
    {
      "cell_type": "markdown",
      "metadata": {
        "id": "74tryspBLIfb",
        "colab_type": "text"
      },
      "source": [
        "\n",
        "\n",
        "Values of different attributes have varying scales, which hinders the learning process. That's because we will use MAE(Mean Absolute Error) as the loss function which measures the distance between predicted value and true value.\n",
        "\n",
        "If one attribute has large scale, its values will be mostly reposible for the loss. That's not what we want in the first stage of learning where attributes are given equal roles.\n",
        "\n",
        "We normalize data using mean and standard deviation."
      ]
    },
    {
      "cell_type": "code",
      "metadata": {
        "id": "aehzEb9lKZh1",
        "colab_type": "code",
        "colab": {}
      },
      "source": [
        "import numpy as np\n",
        "inputs=np.zeros((len(data),21))\n",
        "\n",
        "i=0\n",
        "for e in data:\n",
        "  value=[float(x) for x in e.split(\",\")[1:]]\n",
        "  inputs[i,:]=value\n",
        "  i+=1\n",
        "mean=np.mean(inputs,axis=0)\n",
        "std=np.std(inputs,axis=0)\n",
        "inputs-=mean\n",
        "inputs/=std\n"
      ],
      "execution_count": 0,
      "outputs": []
    },
    {
      "cell_type": "markdown",
      "metadata": {
        "id": "eVQyCrW9N9QA",
        "colab_type": "text"
      },
      "source": [
        "A generator is used to generate 3D float tensor of data before feeding to the neural network. The Date Time column is discarded. \n",
        "\n",
        "past: how far in the past that model can look backward (in minutes)\n",
        "\n",
        "steps: the interval between two peeks into the past of model. This value should not be too small as close data points are usually similar.\n",
        "\n",
        "future: how far in the future that model predicts\n",
        "\n",
        "min_index, max_index: the indices used to seperate data into training set, validation set and test set.\n",
        "\n",
        "batch_size: batch size that generator produces\n"
      ]
    },
    {
      "cell_type": "code",
      "metadata": {
        "id": "F_GNcxq0yy4M",
        "colab_type": "code",
        "colab": {}
      },
      "source": [
        "def generator(data,past,steps,future,min_index,max_index,batch_size):\n",
        "  i=min_index\n",
        "  while True:\n",
        "    if i+batch_size>=max_index:\n",
        "        i=min_index\n",
        "    points=np.arange(i,i+batch_size)\n",
        "    i=i+batch_size\n",
        "   \n",
        "    sample=np.zeros((len(points),past//steps,data.shape[-1]))\n",
        "    target=np.zeros(len(points),)\n",
        "    for j in range(len(points)):\n",
        "      indices=range(points[j],points[j]+past,steps)\n",
        "      sample[j]=data[indices]\n",
        "      target[j]=data[points[j]+past+future][1]\n",
        "    yield sample,target\n",
        "past=1000\n",
        "steps=5\n",
        "future=120\n",
        "batch_size=128\n",
        "\n",
        "train_gen=generator(inputs,past,steps,future,0,len(data)//2,batch_size)\n",
        "val_gen=generator(inputs,past,steps,future,len(data)//2,3*len(data)//4,batch_size)\n",
        "test_gen=generator(inputs,past,steps,future,3*len(data)//4,len(data),batch_size)\n",
        "      \n",
        "    \n",
        "  "
      ],
      "execution_count": 0,
      "outputs": []
    },
    {
      "cell_type": "markdown",
      "metadata": {
        "id": "5JdeNHTnQiE2",
        "colab_type": "text"
      },
      "source": [
        "Before jumping to the expensive and intense computing reccurent network, we simply set up a feedforward network that is composed of Flatten and Dense Layers.\n",
        "\n",
        "The Flatten layer is necessary to transform 3D tensor to 2D tensor that Dense Layers can digest.\n",
        "\n",
        "The output unit simply outputs a 1D tensor consisting of predicted temperature values in the future for each data point. An activation function in this unit will be detrimental to the predicted values.\n",
        "\n",
        "To improve the model, we tweak:\n",
        "- Capacity of each Dense Layer to capture enough representative patterns\n",
        "- **Learning rate** of the optimization function.\n",
        "\n",
        "The **learning rate** is especially important here. If we use the default value, the model will learn with a high rate, continously skipping the local minimum and resulting in underfitiing. \n",
        "\n",
        "In experiment, it causes an awful model.\n",
        "That's why we delibrately choose it to be small 0.0001.\n"
      ]
    },
    {
      "cell_type": "code",
      "metadata": {
        "id": "L7TgBb7Pv6Y4",
        "colab_type": "code",
        "outputId": "250bdf05-b2f4-48e4-9c5e-a6a0b3e78f03",
        "colab": {
          "base_uri": "https://localhost:8080/",
          "height": 697
        }
      },
      "source": [
        "from keras import models, layers,optimizers\n",
        "\n",
        "network=models.Sequential()\n",
        "network.add(layers.Flatten(input_shape=(past//steps,inputs.shape[-1])))\n",
        "network.add(layers.Dense(64,activation=\"relu\"))\n",
        "network.add(layers.Dense(64,activation=\"relu\"))\n",
        "network.add(layers.Dense(1,))\n",
        "\n",
        "network.compile(loss=\"mae\",optimizer=optimizers.RMSprop(lr=0.0001))\n",
        "history=network.fit_generator(train_gen,steps_per_epoch=216,epochs=20,validation_data=val_gen,validation_steps=128)\n",
        "\n",
        "\n"
      ],
      "execution_count": 0,
      "outputs": [
        {
          "output_type": "stream",
          "text": [
            "Epoch 1/20\n",
            "216/216 [==============================] - 6s 27ms/step - loss: 0.3755 - val_loss: 0.7819\n",
            "Epoch 2/20\n",
            "216/216 [==============================] - 5s 25ms/step - loss: 0.2665 - val_loss: 0.7998\n",
            "Epoch 3/20\n",
            "216/216 [==============================] - 5s 25ms/step - loss: 0.2289 - val_loss: 0.7763\n",
            "Epoch 4/20\n",
            "216/216 [==============================] - 5s 25ms/step - loss: 0.2068 - val_loss: 0.7834\n",
            "Epoch 5/20\n",
            "216/216 [==============================] - 6s 26ms/step - loss: 0.1911 - val_loss: 0.7902\n",
            "Epoch 6/20\n",
            "216/216 [==============================] - 6s 26ms/step - loss: 0.1846 - val_loss: 0.8044\n",
            "Epoch 7/20\n",
            "216/216 [==============================] - 5s 25ms/step - loss: 0.1775 - val_loss: 0.8079\n",
            "Epoch 8/20\n",
            "216/216 [==============================] - 5s 24ms/step - loss: 0.1582 - val_loss: 0.7889\n",
            "Epoch 9/20\n",
            "216/216 [==============================] - 5s 24ms/step - loss: 0.1503 - val_loss: 0.7503\n",
            "Epoch 10/20\n",
            "216/216 [==============================] - 5s 25ms/step - loss: 0.1475 - val_loss: 0.7709\n",
            "Epoch 11/20\n",
            "216/216 [==============================] - 5s 25ms/step - loss: 0.1362 - val_loss: 0.7747\n",
            "Epoch 12/20\n",
            "216/216 [==============================] - 5s 22ms/step - loss: 0.1307 - val_loss: 0.7768\n",
            "Epoch 13/20\n",
            "216/216 [==============================] - 5s 23ms/step - loss: 0.1324 - val_loss: 0.7673\n",
            "Epoch 14/20\n",
            "216/216 [==============================] - 5s 25ms/step - loss: 0.1302 - val_loss: 0.7839\n",
            "Epoch 15/20\n",
            "216/216 [==============================] - 5s 25ms/step - loss: 0.1248 - val_loss: 0.7239\n",
            "Epoch 16/20\n",
            "216/216 [==============================] - 5s 25ms/step - loss: 0.1216 - val_loss: 0.7836\n",
            "Epoch 17/20\n",
            "216/216 [==============================] - 5s 25ms/step - loss: 0.1183 - val_loss: 0.7288\n",
            "Epoch 18/20\n",
            "216/216 [==============================] - 5s 25ms/step - loss: 0.1134 - val_loss: 0.7463\n",
            "Epoch 19/20\n",
            "216/216 [==============================] - 6s 26ms/step - loss: 0.1131 - val_loss: 0.7338\n",
            "Epoch 20/20\n",
            "216/216 [==============================] - 5s 24ms/step - loss: 0.1130 - val_loss: 0.6985\n"
          ],
          "name": "stdout"
        }
      ]
    },
    {
      "cell_type": "code",
      "metadata": {
        "id": "k3vX53X3Fm1C",
        "colab_type": "code",
        "outputId": "78b55c07-e578-413f-e13f-d983776435ed",
        "colab": {
          "base_uri": "https://localhost:8080/",
          "height": 283
        }
      },
      "source": [
        "training_loss=history.history[\"loss\"]\n",
        "validation_loss=history.history[\"val_loss\"]\n",
        "import matplotlib.pyplot as plt\n",
        "plt.plot(range(len(training_loss)),training_loss,label=\"Training loss\")\n",
        "plt.plot(range(len(training_loss)),validation_loss,label=\"Validation loss\")\n",
        "plt.xlabel(\"Epochs\")\n",
        "plt.ylabel(\"Loss\")\n",
        "plt.legend()\n",
        "plt.show()"
      ],
      "execution_count": 0,
      "outputs": [
        {
          "output_type": "display_data",
          "data": {
            "image/png": "[encoded data removed]",
            "text/plain": [
              "<Figure size 432x288 with 1 Axes>"
            ]
          },
          "metadata": {
            "tags": []
          }
        }
      ]
    },
    {
      "cell_type": "markdown",
      "metadata": {
        "id": "dXtC4D-dSmqJ",
        "colab_type": "text"
      },
      "source": [
        "The model overfits from the first epochs but the loss indicates a relatively good model with low computing price.\n",
        "\n",
        "The loss in validation set is around 0.8."
      ]
    },
    {
      "cell_type": "markdown",
      "metadata": {
        "id": "TxDiQ3_AS39x",
        "colab_type": "text"
      },
      "source": [
        "***Recurrent network: ***\n",
        "Simply  speaking, the recurrent network ultilizes the time nature of the data. As with weather, the closer the data point, the more representative power it has.\n",
        "\n",
        "Simple recurrent network uses only one function and optimizes it by running it over time( time axis in data) \n",
        "\n",
        "Model strucuture:\n",
        "- GRU Layer\n",
        "- Dense Layer \n",
        "\n",
        "Learning rate is set at 0.0001 to prevent underfitting."
      ]
    },
    {
      "cell_type": "code",
      "metadata": {
        "id": "ZehRp74TGwjZ",
        "colab_type": "code",
        "outputId": "10d33e4e-53f2-42e3-d54d-08361719c6c7",
        "colab": {
          "base_uri": "https://localhost:8080/",
          "height": 768
        }
      },
      "source": [
        "from keras import models, layers,optimizers\n",
        "\n",
        "network=models.Sequential()\n",
        "network.add(layers.GRU(64,input_shape=(None,inputs.shape[-1]),activation=\"tanh\"))\n",
        "network.add(layers.Dense(1,))\n",
        "\n",
        "network.compile(loss=\"mae\",optimizer=optimizers.RMSprop(lr=0.0001))\n",
        "history=network.fit_generator(train_gen,steps_per_epoch=216,epochs=20,validation_data=val_gen,validation_steps=128)"
      ],
      "execution_count": 0,
      "outputs": [
        {
          "output_type": "stream",
          "text": [
            "WARNING:tensorflow:From /usr/local/lib/python3.6/dist-packages/tensorflow_core/python/ops/math_grad.py:1424: where (from tensorflow.python.ops.array_ops) is deprecated and will be removed in a future version.\n",
            "Instructions for updating:\n",
            "Use tf.where in 2.0, which has the same broadcast rule as np.where\n",
            "Epoch 1/20\n",
            "216/216 [==============================] - 51s 238ms/step - loss: 0.3572 - val_loss: 0.3855\n",
            "Epoch 2/20\n",
            "216/216 [==============================] - 50s 230ms/step - loss: 0.3227 - val_loss: 0.3383\n",
            "Epoch 3/20\n",
            "216/216 [==============================] - 50s 232ms/step - loss: 0.3152 - val_loss: 0.3408\n",
            "Epoch 4/20\n",
            "216/216 [==============================] - 50s 230ms/step - loss: 0.3076 - val_loss: 0.3333\n",
            "Epoch 5/20\n",
            "216/216 [==============================] - 50s 231ms/step - loss: 0.2977 - val_loss: 0.3439\n",
            "Epoch 6/20\n",
            "216/216 [==============================] - 50s 229ms/step - loss: 0.2987 - val_loss: 0.3386\n",
            "Epoch 7/20\n",
            "216/216 [==============================] - 49s 229ms/step - loss: 0.2941 - val_loss: 0.3323\n",
            "Epoch 8/20\n",
            "216/216 [==============================] - 49s 228ms/step - loss: 0.2840 - val_loss: 0.3358\n",
            "Epoch 9/20\n",
            "216/216 [==============================] - 50s 230ms/step - loss: 0.2784 - val_loss: 0.3394\n",
            "Epoch 10/20\n",
            "216/216 [==============================] - 49s 228ms/step - loss: 0.2766 - val_loss: 0.3372\n",
            "Epoch 11/20\n",
            "216/216 [==============================] - 50s 229ms/step - loss: 0.2791 - val_loss: 0.3490\n",
            "Epoch 12/20\n",
            "216/216 [==============================] - 50s 230ms/step - loss: 0.2720 - val_loss: 0.3526\n",
            "Epoch 13/20\n",
            "216/216 [==============================] - 49s 228ms/step - loss: 0.2707 - val_loss: 0.3599\n",
            "Epoch 14/20\n",
            "216/216 [==============================] - 49s 227ms/step - loss: 0.2685 - val_loss: 0.3392\n",
            "Epoch 15/20\n",
            "216/216 [==============================] - 49s 228ms/step - loss: 0.2665 - val_loss: 0.3421\n",
            "Epoch 16/20\n",
            "216/216 [==============================] - 49s 229ms/step - loss: 0.2587 - val_loss: 0.3435\n",
            "Epoch 17/20\n",
            "216/216 [==============================] - 49s 228ms/step - loss: 0.2621 - val_loss: 0.3542\n",
            "Epoch 18/20\n",
            "216/216 [==============================] - 49s 228ms/step - loss: 0.2622 - val_loss: 0.3539\n",
            "Epoch 19/20\n",
            "216/216 [==============================] - 49s 226ms/step - loss: 0.2579 - val_loss: 0.3514\n",
            "Epoch 20/20\n",
            "216/216 [==============================] - 49s 226ms/step - loss: 0.2595 - val_loss: 0.3600\n"
          ],
          "name": "stdout"
        }
      ]
    },
    {
      "cell_type": "code",
      "metadata": {
        "id": "b5Z2oBbyLoNN",
        "colab_type": "code",
        "outputId": "d051484c-59cf-4ef9-ae12-75e031aa872e",
        "colab": {
          "base_uri": "https://localhost:8080/",
          "height": 283
        }
      },
      "source": [
        "training_loss=history.history[\"loss\"]\n",
        "validation_loss=history.history[\"val_loss\"]\n",
        "import matplotlib.pyplot as plt\n",
        "plt.plot(range(len(training_loss)),training_loss,label=\"Training loss\")\n",
        "plt.plot(range(len(training_loss)),validation_loss,label=\"Validation loss\")\n",
        "plt.xlabel(\"Epochs\")\n",
        "plt.ylabel(\"Loss\")\n",
        "plt.legend()\n",
        "plt.show()"
      ],
      "execution_count": 0,
      "outputs": [
        {
          "output_type": "display_data",
          "data": {
            "image/png": "[encoded data removed]",
            "text/plain": [
              "<Figure size 432x288 with 1 Axes>"
            ]
          },
          "metadata": {
            "tags": []
          }
        }
      ]
    },
    {
      "cell_type": "markdown",
      "metadata": {
        "id": "QNqpEfI2UbNb",
        "colab_type": "text"
      },
      "source": [
        "Even though the overal loss is not rewarding compared to a cheap feedforward network, this model is more stable.\n",
        "\n",
        "The loss in validation set is significantly lower only hovering around 0.34"
      ]
    },
    {
      "cell_type": "markdown",
      "metadata": {
        "id": "ZcFVqBFcU34I",
        "colab_type": "text"
      },
      "source": [
        "We try to add more GRU Layers."
      ]
    },
    {
      "cell_type": "code",
      "metadata": {
        "id": "kZCNP-ZE5FqQ",
        "colab_type": "code",
        "outputId": "c5fdbcae-8603-42db-b478-ffc66407b20b",
        "colab": {
          "base_uri": "https://localhost:8080/",
          "height": 897
        }
      },
      "source": [
        "from keras import models, layers,optimizers\n",
        "\n",
        "network=models.Sequential()\n",
        "network.add(layers.GRU(64,input_shape=(None,inputs.shape[-1]),activation=\"tanh\",dropout=0.1,recurrent_dropout=0.2,return_sequences=True))\n",
        "network.add(layers.GRU(64,activation=\"tanh\",dropout=0.1,recurrent_dropout=0.2))\n",
        "network.add(layers.Dense(1,))\n",
        "\n",
        "network.compile(loss=\"mae\",optimizer=optimizers.RMSprop(lr=0.0001))\n",
        "history=network.fit_generator(train_gen,steps_per_epoch=216,epochs=25,validation_data=val_gen,validation_steps=128)"
      ],
      "execution_count": 0,
      "outputs": [
        {
          "output_type": "stream",
          "text": [
            "Epoch 1/25\n",
            "216/216 [==============================] - 138s 638ms/step - loss: 0.4372 - val_loss: 0.3260\n",
            "Epoch 2/25\n",
            "216/216 [==============================] - 140s 648ms/step - loss: 0.3460 - val_loss: 0.3302\n",
            "Epoch 3/25\n",
            "216/216 [==============================] - 136s 631ms/step - loss: 0.3317 - val_loss: 0.3273\n",
            "Epoch 4/25\n",
            "216/216 [==============================] - 137s 635ms/step - loss: 0.3266 - val_loss: 0.3404\n",
            "Epoch 5/25\n",
            "216/216 [==============================] - 139s 642ms/step - loss: 0.3264 - val_loss: 0.3498\n",
            "Epoch 6/25\n",
            "216/216 [==============================] - 137s 635ms/step - loss: 0.3147 - val_loss: 0.3383\n",
            "Epoch 7/25\n",
            "216/216 [==============================] - 139s 644ms/step - loss: 0.3139 - val_loss: 0.3553\n",
            "Epoch 8/25\n",
            "216/216 [==============================] - 137s 635ms/step - loss: 0.3129 - val_loss: 0.3444\n",
            "Epoch 9/25\n",
            "216/216 [==============================] - 140s 649ms/step - loss: 0.3156 - val_loss: 0.3301\n",
            "Epoch 10/25\n",
            "216/216 [==============================] - 136s 628ms/step - loss: 0.3007 - val_loss: 0.3350\n",
            "Epoch 11/25\n",
            "216/216 [==============================] - 136s 630ms/step - loss: 0.3037 - val_loss: 0.3380\n",
            "Epoch 12/25\n",
            "216/216 [==============================] - 136s 631ms/step - loss: 0.3040 - val_loss: 0.3476\n",
            "Epoch 13/25\n",
            "216/216 [==============================] - 139s 644ms/step - loss: 0.2973 - val_loss: 0.3521\n",
            "Epoch 14/25\n",
            "216/216 [==============================] - 137s 635ms/step - loss: 0.2975 - val_loss: 0.3589\n",
            "Epoch 15/25\n",
            "216/216 [==============================] - 139s 641ms/step - loss: 0.2967 - val_loss: 0.3547\n",
            "Epoch 16/25\n",
            "216/216 [==============================] - 139s 642ms/step - loss: 0.3033 - val_loss: 0.3322\n",
            "Epoch 17/25\n",
            "216/216 [==============================] - 137s 636ms/step - loss: 0.2886 - val_loss: 0.3410\n",
            "Epoch 18/25\n",
            "216/216 [==============================] - 138s 638ms/step - loss: 0.2882 - val_loss: 0.3385\n",
            "Epoch 19/25\n",
            "216/216 [==============================] - 136s 629ms/step - loss: 0.2927 - val_loss: 0.3641\n",
            "Epoch 20/25\n",
            "216/216 [==============================] - 137s 633ms/step - loss: 0.2842 - val_loss: 0.3520\n",
            "Epoch 21/25\n",
            "216/216 [==============================] - 138s 638ms/step - loss: 0.2851 - val_loss: 0.3730\n",
            "Epoch 22/25\n",
            "216/216 [==============================] - 137s 634ms/step - loss: 0.2858 - val_loss: 0.3534\n",
            "Epoch 23/25\n",
            "216/216 [==============================] - 136s 630ms/step - loss: 0.2899 - val_loss: 0.3461\n",
            "Epoch 24/25\n",
            "216/216 [==============================] - 138s 640ms/step - loss: 0.2787 - val_loss: 0.3540\n",
            "Epoch 25/25\n",
            "216/216 [==============================] - 136s 628ms/step - loss: 0.2763 - val_loss: 0.3467\n"
          ],
          "name": "stdout"
        }
      ]
    },
    {
      "cell_type": "code",
      "metadata": {
        "id": "L7Z6Ysbu5_Gp",
        "colab_type": "code",
        "colab": {}
      },
      "source": [
        "import matplotlib.pyplot as plt\n",
        "def drawgraph(history):\n",
        "  training_loss=history.history[\"loss\"]\n",
        "  validation_loss=history.history[\"val_loss\"]\n",
        "  plt.plot(range(len(training_loss)),training_loss,label=\"Training loss\")\n",
        "  plt.plot(range(len(training_loss)),validation_loss,label=\"Validation loss\")\n",
        "  plt.xlabel(\"Epochs\")\n",
        "  plt.ylabel(\"Loss\")\n",
        "  plt.legend()\n",
        "  plt.show()\n"
      ],
      "execution_count": 0,
      "outputs": []
    },
    {
      "cell_type": "code",
      "metadata": {
        "id": "4dwXSfLw6h4J",
        "colab_type": "code",
        "outputId": "744a2eee-e82c-4e46-d955-da2b72e9bc4f",
        "colab": {
          "base_uri": "https://localhost:8080/",
          "height": 283
        }
      },
      "source": [
        "drawgraph(history)"
      ],
      "execution_count": 0,
      "outputs": [
        {
          "output_type": "display_data",
          "data": {
            "image/png": "[encoded data removed]",
            "text/plain": [
              "<Figure size 432x288 with 1 Axes>"
            ]
          },
          "metadata": {
            "tags": []
          }
        }
      ]
    },
    {
      "cell_type": "markdown",
      "metadata": {
        "id": "QswCXV4TU-2F",
        "colab_type": "text"
      },
      "source": [
        "The overall result is not higher than the previous model. It means we should resort to other methods to improve model or stop with the previous one."
      ]
    }
  ]
}