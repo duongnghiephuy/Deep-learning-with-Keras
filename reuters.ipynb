{
  "nbformat": 4,
  "nbformat_minor": 0,
  "metadata": {
    "colab": {
      "name": "reuters.ipynb",
      "provenance": [],
      "collapsed_sections": [],
      "include_colab_link": true
    },
    "kernelspec": {
      "name": "python3",
      "display_name": "Python 3"
    }
  },
  "cells": [
    {
      "cell_type": "markdown",
      "metadata": {
        "id": "view-in-github",
        "colab_type": "text"
      },
      "source": [
        "<a href=\"https://colab.research.google.com/github/duongnghiephuy/Practice-Simple-Deep-learning/blob/master/reuters.ipynb\" target=\"_parent\"><img src=\"https://colab.research.google.com/assets/colab-badge.svg\" alt=\"Open In Colab\"/></a>"
      ]
    },
    {
      "cell_type": "code",
      "metadata": {
        "id": "X6KFqc_nv0d2",
        "colab_type": "code",
        "colab": {
          "base_uri": "https://localhost:8080/",
          "height": 34
        },
        "outputId": "b2eb2367-031d-4b92-a0f0-91c0be7c740b"
      },
      "source": [
        "from keras.datasets import reuters"
      ],
      "execution_count": 2,
      "outputs": [
        {
          "output_type": "stream",
          "text": [
            "Using TensorFlow backend.\n"
          ],
          "name": "stderr"
        }
      ]
    },
    {
      "cell_type": "code",
      "metadata": {
        "id": "tzSR77nwv-DC",
        "colab_type": "code",
        "colab": {
          "base_uri": "https://localhost:8080/",
          "height": 52
        },
        "outputId": "fdad5c4c-caec-4986-a065-c2c12b626454"
      },
      "source": [
        "(train_data,train_label),(test_data,test_label)=reuters.load_data(num_words=10000)"
      ],
      "execution_count": 3,
      "outputs": [
        {
          "output_type": "stream",
          "text": [
            "Downloading data from https://s3.amazonaws.com/text-datasets/reuters.npz\n",
            "2113536/2110848 [==============================] - 1s 0us/step\n"
          ],
          "name": "stdout"
        }
      ]
    },
    {
      "cell_type": "markdown",
      "metadata": {
        "id": "hiUVl4IL_Rro",
        "colab_type": "text"
      },
      "source": [
        "The reuters dataset is already packed in Keras. It contains newires from Reuters labeled over 46 topics. This is a multi-label classification which similar to mnist.\n",
        "The keyword num_words=10000 means we only import words that are 1000 most frequently used."
      ]
    },
    {
      "cell_type": "code",
      "metadata": {
        "id": "mnKxN8-ewS8h",
        "colab_type": "code",
        "outputId": "209b677c-f521-45d2-ba23-c4c164f12d7d",
        "colab": {
          "base_uri": "https://localhost:8080/",
          "height": 160
        }
      },
      "source": [
        "print(\"Shape of train data\",train_data.shape)\n",
        "print(\"Shape of test data\",test_data.shape)\n",
        "print(\"The encoded wire:\\n\",train_data[0])\n",
        "d=reuters.get_word_index()\n",
        "reverse={key:value for (value,key) in d.items() }\n",
        "decoded=\" \".join(reverse.get(i-3,\"?\") for i in train_data[0] )\n",
        "print(\"The decoded wire is:\\n\",decoded)\n",
        "print(\"The label is\",train_label[0])"
      ],
      "execution_count": 6,
      "outputs": [
        {
          "output_type": "stream",
          "text": [
            "Shape of train data (8982,)\n",
            "Shape of test data (2246,)\n",
            "The encoded wire:\n",
            " [1, 2, 2, 8, 43, 10, 447, 5, 25, 207, 270, 5, 3095, 111, 16, 369, 186, 90, 67, 7, 89, 5, 19, 102, 6, 19, 124, 15, 90, 67, 84, 22, 482, 26, 7, 48, 4, 49, 8, 864, 39, 209, 154, 6, 151, 6, 83, 11, 15, 22, 155, 11, 15, 7, 48, 9, 4579, 1005, 504, 6, 258, 6, 272, 11, 15, 22, 134, 44, 11, 15, 16, 8, 197, 1245, 90, 67, 52, 29, 209, 30, 32, 132, 6, 109, 15, 17, 12]\n",
            "The decoded wire is:\n",
            " ? ? ? said as a result of its december acquisition of space co it expects earnings per share in 1987 of 1 15 to 1 30 dlrs per share up from 70 cts in 1986 the company said pretax net should rise to nine to 10 mln dlrs from six mln dlrs in 1986 and rental operation revenues to 19 to 22 mln dlrs from 12 5 mln dlrs it said cash flow per share this year should be 2 50 to three dlrs reuter 3\n",
            "The label is 3\n"
          ],
          "name": "stdout"
        }
      ]
    },
    {
      "cell_type": "markdown",
      "metadata": {
        "id": "eifszTwT_9LH",
        "colab_type": "text"
      },
      "source": [
        "Each wire is encoded so we have to decode to see the original wire."
      ]
    },
    {
      "cell_type": "code",
      "metadata": {
        "id": "x4xAEmdtxO7e",
        "colab_type": "code",
        "colab": {}
      },
      "source": [
        "import numpy as np\n",
        "from keras.utils import to_categorical\n",
        "def vectorize_sequences(sequences,dimension=10000):\n",
        "  results=np.zeros((len(sequences),dimension))\n",
        "  for i,sequence in enumerate(sequences):\n",
        "    results[i,sequence]=1\n",
        "  return results\n",
        "\n",
        "train=vectorize_sequences(train_data)\n",
        "test=vectorize_sequences(test_data)\n",
        "\n",
        "one_hot_train=to_categorical(train_label)\n",
        "one_hot_test=to_categorical(test_label)\n",
        "\n",
        "\n",
        "\n",
        "\n"
      ],
      "execution_count": 0,
      "outputs": []
    },
    {
      "cell_type": "markdown",
      "metadata": {
        "id": "QA5EKM_rB7Sx",
        "colab_type": "text"
      },
      "source": [
        "As the data is not in the form of proper 2D float tensor, we have to one-hot code the data. Only 10000 most common words are used so the 2D float tensor is of shape((len(data),10000)). Each transformed data point X then is a vector of 0 and 1 such that X[i]=1 if i appears in the original data point.\n",
        "\n"
      ]
    },
    {
      "cell_type": "code",
      "metadata": {
        "id": "x3DiDy5jyVUr",
        "colab_type": "code",
        "colab": {}
      },
      "source": [
        "from keras import models\n",
        "from keras import layers\n"
      ],
      "execution_count": 0,
      "outputs": []
    },
    {
      "cell_type": "markdown",
      "metadata": {
        "id": "uvPmDT13CBZC",
        "colab_type": "text"
      },
      "source": [
        "The training set is cut into a partial training set and a validation set. The validation set is used as an indication of trained model's generalization power that we can try to improve.\n",
        "The model structure is a linear stack of Denses layer.\n",
        "\n",
        "- The output unit utilizes softmax function to output a 46D vector which indicates the probability of belonging to each class.\n",
        "\n",
        "To improve accuracy:\n",
        "\n",
        "- Tweak the layers' capacity(dimension of layers' output). A low capacity cannot capture predictive representations, resulting in underfitting."
      ]
    },
    {
      "cell_type": "code",
      "metadata": {
        "id": "adNOLpC0yeNU",
        "colab_type": "code",
        "outputId": "6446c7fe-9a8d-4225-b42c-9ba92fc49ea3",
        "colab": {
          "base_uri": "https://localhost:8080/",
          "height": 422
        }
      },
      "source": [
        "network=models.Sequential()\n",
        "network.add(layers.Dense(128,activation=\"relu\",input_shape=(10000,)))\n",
        "network.add(layers.Dense(46,activation=\"softmax\"))\n",
        "\n",
        "network.compile(optimizer=\"rmsprop\",loss=\"categorical_crossentropy\",metrics=[\"accuracy\"])\n",
        "\n",
        "train_val=train[:1000]\n",
        "partial_train=train[1000:]\n",
        "label_val=one_hot_train[:1000]\n",
        "partial_label=one_hot_train[1000:]\n",
        "\n",
        "print(partial_train.shape)\n",
        "print(partial_label.shape)\n",
        "history=network.fit(partial_train,partial_label,epochs=10,batch_size=256,validation_data=(train_val,label_val))\n",
        "\n"
      ],
      "execution_count": 0,
      "outputs": [
        {
          "output_type": "stream",
          "text": [
            "(7982, 10000)\n",
            "(7982, 46)\n",
            "Train on 7982 samples, validate on 1000 samples\n",
            "Epoch 1/10\n",
            "7982/7982 [==============================] - 3s 427us/step - loss: 1.8104 - acc: 0.6511 - val_loss: 1.2016 - val_acc: 0.7340\n",
            "Epoch 2/10\n",
            "7982/7982 [==============================] - 3s 320us/step - loss: 0.8769 - acc: 0.8175 - val_loss: 0.9494 - val_acc: 0.8100\n",
            "Epoch 3/10\n",
            "7982/7982 [==============================] - 3s 326us/step - loss: 0.5822 - acc: 0.8836 - val_loss: 0.8712 - val_acc: 0.8170\n",
            "Epoch 4/10\n",
            "7982/7982 [==============================] - 3s 323us/step - loss: 0.4098 - acc: 0.9176 - val_loss: 0.8084 - val_acc: 0.8320\n",
            "Epoch 5/10\n",
            "7982/7982 [==============================] - 3s 323us/step - loss: 0.3013 - acc: 0.9357 - val_loss: 0.7899 - val_acc: 0.8290\n",
            "Epoch 6/10\n",
            "7982/7982 [==============================] - 3s 320us/step - loss: 0.2357 - acc: 0.9434 - val_loss: 0.8346 - val_acc: 0.8290\n",
            "Epoch 7/10\n",
            "7982/7982 [==============================] - 3s 325us/step - loss: 0.1922 - acc: 0.9493 - val_loss: 0.8554 - val_acc: 0.8240\n",
            "Epoch 8/10\n",
            "7982/7982 [==============================] - 3s 324us/step - loss: 0.1666 - acc: 0.9528 - val_loss: 0.8961 - val_acc: 0.8170\n",
            "Epoch 9/10\n",
            "7982/7982 [==============================] - 3s 322us/step - loss: 0.1500 - acc: 0.9545 - val_loss: 0.8816 - val_acc: 0.8220\n",
            "Epoch 10/10\n",
            "7982/7982 [==============================] - 3s 319us/step - loss: 0.1374 - acc: 0.9557 - val_loss: 0.9537 - val_acc: 0.8090\n"
          ],
          "name": "stdout"
        }
      ]
    },
    {
      "cell_type": "markdown",
      "metadata": {
        "id": "BUuFZq15CmT_",
        "colab_type": "text"
      },
      "source": [
        "We plot the loss and accuracy of this simple model."
      ]
    },
    {
      "cell_type": "code",
      "metadata": {
        "id": "yMrPC3aV4gTI",
        "colab_type": "code",
        "outputId": "01678016-3504-4054-c918-fbec2a9e1bca",
        "colab": {
          "base_uri": "https://localhost:8080/",
          "height": 283
        }
      },
      "source": [
        "import matplotlib.pyplot as plt\n",
        "\n",
        "his_dict=history.history\n",
        "\n",
        "plt.plot(range(len(his_dict[\"loss\"])),his_dict[\"loss\"],\"bo\",label=\"Training_loss\")\n",
        "plt.plot(range(len(his_dict[\"loss\"])),his_dict[\"val_loss\"],\"mo\",label=\"Validation_loss\")\n",
        "plt.xlabel(\"Epochs\")\n",
        "plt.ylabel(\"Loss\")\n",
        "plt.legend()\n",
        "plt.show()\n",
        "\n"
      ],
      "execution_count": 0,
      "outputs": [
        {
          "output_type": "display_data",
          "data": {
            "image/png": "[encoded data removed]",
            "text/plain": [
              "<Figure size 432x288 with 1 Axes>"
            ]
          },
          "metadata": {
            "tags": []
          }
        }
      ]
    },
    {
      "cell_type": "code",
      "metadata": {
        "id": "PqqcARoy5pVK",
        "colab_type": "code",
        "outputId": "5d465480-cc02-4d08-c7df-47744e04035e",
        "colab": {
          "base_uri": "https://localhost:8080/",
          "height": 283
        }
      },
      "source": [
        "plt.figure()\n",
        "plt.plot(range(len(his_dict[\"acc\"])),his_dict[\"acc\"],\"bo\",label=\"Training accuracy\")\n",
        "plt.plot(range(len(his_dict[\"acc\"])),his_dict[\"val_acc\"],\"mo\",label=\"Validation accuracy\")\n",
        "plt.xlabel(\"Epochs\")\n",
        "plt.ylabel(\"Accuracy\")\n",
        "plt.legend()\n",
        "plt.show()"
      ],
      "execution_count": 0,
      "outputs": [
        {
          "output_type": "display_data",
          "data": {
            "image/png": "[encoded data removed]",
            "text/plain": [
              "<Figure size 432x288 with 1 Axes>"
            ]
          },
          "metadata": {
            "tags": []
          }
        }
      ]
    },
    {
      "cell_type": "markdown",
      "metadata": {
        "id": "YvY0HSWkCs0o",
        "colab_type": "text"
      },
      "source": [
        "This model starts overfitting after 5 epochs so it is better to set epochs at 5."
      ]
    },
    {
      "cell_type": "code",
      "metadata": {
        "id": "-k2TiNzN587-",
        "colab_type": "code",
        "outputId": "0864b512-12d3-4ac7-8890-16cf79fb36a9",
        "colab": {
          "base_uri": "https://localhost:8080/",
          "height": 228
        }
      },
      "source": [
        "network=models.Sequential()\n",
        "network.add(layers.Dense(128,activation=\"relu\",input_shape=(10000,)))\n",
        "network.add(layers.Dense(46,activation=\"softmax\"))\n",
        "\n",
        "network.compile(optimizer=\"rmsprop\",loss=\"categorical_crossentropy\",metrics=[\"accuracy\"])\n",
        "\n",
        "network.fit(train,one_hot_train,epochs=5,batch_size=256)\n",
        "print(network.evaluate(test,one_hot_test))"
      ],
      "execution_count": 0,
      "outputs": [
        {
          "output_type": "stream",
          "text": [
            "Epoch 1/5\n",
            "8982/8982 [==============================] - 3s 387us/step - loss: 1.8022 - acc: 0.6627\n",
            "Epoch 2/5\n",
            "8982/8982 [==============================] - 2s 265us/step - loss: 0.8467 - acc: 0.8258\n",
            "Epoch 3/5\n",
            "8982/8982 [==============================] - 2s 261us/step - loss: 0.5667 - acc: 0.8864\n",
            "Epoch 4/5\n",
            "8982/8982 [==============================] - 2s 269us/step - loss: 0.4033 - acc: 0.9156\n",
            "Epoch 5/5\n",
            "8982/8982 [==============================] - 2s 270us/step - loss: 0.2997 - acc: 0.9335\n",
            "2246/2246 [==============================] - 1s 291us/step\n",
            "[0.8696022074029367, 0.8032056990735571]\n"
          ],
          "name": "stdout"
        }
      ]
    },
    {
      "cell_type": "markdown",
      "metadata": {
        "id": "DXBG_Oi6C4M6",
        "colab_type": "text"
      },
      "source": [
        "The test evaluation is 80% for this simple model."
      ]
    }
  ]
}