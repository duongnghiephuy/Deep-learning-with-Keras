{
  "nbformat": 4,
  "nbformat_minor": 0,
  "metadata": {
    "colab": {
      "name": "digits.ipynb",
      "provenance": [],
      "collapsed_sections": [],
      "include_colab_link": true
    },
    "kernelspec": {
      "name": "python3",
      "display_name": "Python 3"
    }
  },
  "cells": [
    {
      "cell_type": "markdown",
      "metadata": {
        "id": "view-in-github",
        "colab_type": "text"
      },
      "source": [
        "<a href=\"https://colab.research.google.com/github/duongnghiephuy/Practice-Deep-learning-/blob/master/digits.ipynb\" target=\"_parent\"><img src=\"https://colab.research.google.com/assets/colab-badge.svg\" alt=\"Open In Colab\"/></a>"
      ]
    },
    {
      "cell_type": "code",
      "metadata": {
        "id": "d2jtEgBqEYLJ",
        "colab_type": "code",
        "colab": {
          "base_uri": "https://localhost:8080/",
          "height": 105
        },
        "outputId": "51f01bad-4cf0-4436-8ffc-9f46e895c5b3"
      },
      "source": [
        "from keras.datasets import mnist\n",
        "from keras import layers\n",
        "from keras import models\n",
        "from matplotlib import pyplot as plt\n",
        "from keras.utils import to_categorical\n",
        "\n",
        "(train_data,train_label),(test_data,test_label)=mnist.load_data()\n",
        "print(\"Shape of training data:\",train_data.shape)  \n",
        "print(\"Shape of test data:\",test_data.shape)  \n"
      ],
      "execution_count": 1,
      "outputs": [
        {
          "output_type": "stream",
          "text": [
            "Using TensorFlow backend.\n"
          ],
          "name": "stderr"
        },
        {
          "output_type": "stream",
          "text": [
            "Downloading data from https://s3.amazonaws.com/img-datasets/mnist.npz\n",
            "11493376/11490434 [==============================] - 0s 0us/step\n",
            "Shape of training data: (60000, 28, 28)\n",
            "Shape of test data: (10000, 28, 28)\n"
          ],
          "name": "stdout"
        }
      ]
    },
    {
      "cell_type": "markdown",
      "metadata": {
        "id": "oZOPxnqYEibP",
        "colab_type": "text"
      },
      "source": [
        "Before attempting to set up a model, we take a first look into the shape of our data.\n",
        "Interpreting from shape, the training set consists of 60000 digit images of height 28, width 28. The feature of each image is therefore a matrix of 28_28 integers indicating the value of 28_28 pixels.\n",
        "\n",
        "\n",
        "To visualize, plot an image.\n"
      ]
    },
    {
      "cell_type": "code",
      "metadata": {
        "id": "tTHjKTgrGYjl",
        "colab_type": "code",
        "colab": {
          "base_uri": "https://localhost:8080/",
          "height": 286
        },
        "outputId": "b071819d-d661-49df-d82c-08e731bddc4c"
      },
      "source": [
        "plt.imshow(train_data[0],cmap=plt.cm.get_cmap(\"binary\"))\n",
        "print(\"The label of this digit image is:\",train_label[0])\n"
      ],
      "execution_count": 3,
      "outputs": [
        {
          "output_type": "stream",
          "text": [
            "The label of this digit image is: 5\n"
          ],
          "name": "stdout"
        },
        {
          "output_type": "display_data",
          "data": {
            "image/png": "[encoded data removed]",
            "text/plain": [
              "<Figure size 432x288 with 1 Axes>"
            ]
          },
          "metadata": {
            "tags": []
          }
        }
      ]
    },
    {
      "cell_type": "code",
      "metadata": {
        "id": "VYVSxqS3Gs5X",
        "colab_type": "code",
        "colab": {}
      },
      "source": [
        "train_data=train_data.reshape(60000,28*28)\n",
        "train_data=train_data.astype(\"float32\")/255 \n",
        "test_data=test_data.reshape(10000,28*28)\n",
        "test_data=test_data.astype(\"float32\")/255 \n",
        "\n",
        "train_label=to_categorical(train_label)\n",
        "test_label=to_categorical(test_label)"
      ],
      "execution_count": 0,
      "outputs": []
    },
    {
      "cell_type": "markdown",
      "metadata": {
        "id": "8PccFg8MG0X8",
        "colab_type": "text"
      },
      "source": [
        "Before feeding data into the model, it is necessary to process because the Dense layer in Keras is only capable of crunching 2D tensor of float type.\n",
        "\n",
        "We turn data into 2D tensor of float consisting of (example,features)\n",
        "\n",
        "Why do we have to normalize the data?\n",
        "\n",
        "There is a great disparity in accuracy results achieved by train data with scaling and train data without scaling. \n",
        "\n",
        "In my experiment,the latter is around 80% while the former reaches 98%.\n",
        "\n",
        "There are severals reasons for this:\n",
        "- Large input data results in large learned weights, which leads to an unstable model. \n",
        "In other words, it is sensitive to input values.Small weights are preferable.\n",
        "\n",
        "- Large input data also causes  the gradient to explode which is detrimental\n",
        "\n",
        "- In my first layer, the activation function is relu (which involves exponential function) while the initialized weights are small. Without scaling, lots of data may be reduced to 0. \n",
        "\n",
        "Encode the label:\n",
        "If we keep the original format, we will feed a list of integers to the model. \n",
        "Number 1 has label 1,etc. \n",
        "\n",
        "Problems:\n",
        "If the true label result is (1,5,6) , the model infers that (1,5,7) is closer to the truth than (1,5,9) based on distance\n",
        "even though there is 1 wrong prediction in each case.\n",
        "\n",
        "By econding, 5 is encoded as [0 0 0 0 1 0 0 0 0 0 ].\n"
      ]
    },
    {
      "cell_type": "code",
      "metadata": {
        "id": "Q6V3tX-xIi4Y",
        "colab_type": "code",
        "colab": {
          "base_uri": "https://localhost:8080/",
          "height": 741
        },
        "outputId": "b1359dcd-eccb-4bf2-8ed7-486194a7de83"
      },
      "source": [
        "model=models.Sequential()\n",
        "\n",
        "model.add(layers.Dense(512,input_shape=(28*28,),activation=\"relu\"))\n",
        "\n",
        "model.add(layers.Dense(10,activation=\"softmax\"))\n",
        "\n",
        "model.compile(optimizer=\"rmsprop\",loss=\"categorical_crossentropy\",metrics=[\"accuracy\"])\n",
        "\n",
        "model.fit(train_data,train_label,epochs=5,batch_size=128)\n"
      ],
      "execution_count": 6,
      "outputs": [
        {
          "output_type": "stream",
          "text": [
            "WARNING:tensorflow:From /usr/local/lib/python3.6/dist-packages/keras/backend/tensorflow_backend.py:66: The name tf.get_default_graph is deprecated. Please use tf.compat.v1.get_default_graph instead.\n",
            "\n",
            "WARNING:tensorflow:From /usr/local/lib/python3.6/dist-packages/keras/backend/tensorflow_backend.py:541: The name tf.placeholder is deprecated. Please use tf.compat.v1.placeholder instead.\n",
            "\n",
            "WARNING:tensorflow:From /usr/local/lib/python3.6/dist-packages/keras/backend/tensorflow_backend.py:4432: The name tf.random_uniform is deprecated. Please use tf.random.uniform instead.\n",
            "\n",
            "WARNING:tensorflow:From /usr/local/lib/python3.6/dist-packages/keras/optimizers.py:793: The name tf.train.Optimizer is deprecated. Please use tf.compat.v1.train.Optimizer instead.\n",
            "\n",
            "WARNING:tensorflow:From /usr/local/lib/python3.6/dist-packages/keras/backend/tensorflow_backend.py:3576: The name tf.log is deprecated. Please use tf.math.log instead.\n",
            "\n",
            "WARNING:tensorflow:From /usr/local/lib/python3.6/dist-packages/tensorflow_core/python/ops/math_grad.py:1424: where (from tensorflow.python.ops.array_ops) is deprecated and will be removed in a future version.\n",
            "Instructions for updating:\n",
            "Use tf.where in 2.0, which has the same broadcast rule as np.where\n",
            "WARNING:tensorflow:From /usr/local/lib/python3.6/dist-packages/keras/backend/tensorflow_backend.py:1033: The name tf.assign_add is deprecated. Please use tf.compat.v1.assign_add instead.\n",
            "\n",
            "WARNING:tensorflow:From /usr/local/lib/python3.6/dist-packages/keras/backend/tensorflow_backend.py:1020: The name tf.assign is deprecated. Please use tf.compat.v1.assign instead.\n",
            "\n",
            "WARNING:tensorflow:From /usr/local/lib/python3.6/dist-packages/keras/backend/tensorflow_backend.py:3005: The name tf.Session is deprecated. Please use tf.compat.v1.Session instead.\n",
            "\n",
            "Epoch 1/5\n",
            "WARNING:tensorflow:From /usr/local/lib/python3.6/dist-packages/keras/backend/tensorflow_backend.py:190: The name tf.get_default_session is deprecated. Please use tf.compat.v1.get_default_session instead.\n",
            "\n",
            "WARNING:tensorflow:From /usr/local/lib/python3.6/dist-packages/keras/backend/tensorflow_backend.py:197: The name tf.ConfigProto is deprecated. Please use tf.compat.v1.ConfigProto instead.\n",
            "\n",
            "WARNING:tensorflow:From /usr/local/lib/python3.6/dist-packages/keras/backend/tensorflow_backend.py:207: The name tf.global_variables is deprecated. Please use tf.compat.v1.global_variables instead.\n",
            "\n",
            "WARNING:tensorflow:From /usr/local/lib/python3.6/dist-packages/keras/backend/tensorflow_backend.py:216: The name tf.is_variable_initialized is deprecated. Please use tf.compat.v1.is_variable_initialized instead.\n",
            "\n",
            "WARNING:tensorflow:From /usr/local/lib/python3.6/dist-packages/keras/backend/tensorflow_backend.py:223: The name tf.variables_initializer is deprecated. Please use tf.compat.v1.variables_initializer instead.\n",
            "\n",
            "60000/60000 [==============================] - 6s 98us/step - loss: 1.4609 - acc: 0.6760\n",
            "Epoch 2/5\n",
            "60000/60000 [==============================] - 5s 85us/step - loss: 0.5830 - acc: 0.8529\n",
            "Epoch 3/5\n",
            "60000/60000 [==============================] - 5s 85us/step - loss: 0.4109 - acc: 0.8887\n",
            "Epoch 4/5\n",
            "60000/60000 [==============================] - 5s 86us/step - loss: 0.3533 - acc: 0.9007\n",
            "Epoch 5/5\n",
            "60000/60000 [==============================] - 5s 85us/step - loss: 0.3233 - acc: 0.9072\n"
          ],
          "name": "stdout"
        },
        {
          "output_type": "execute_result",
          "data": {
            "text/plain": [
              "<keras.callbacks.History at 0x7fba305ebdd8>"
            ]
          },
          "metadata": {
            "tags": []
          },
          "execution_count": 6
        }
      ]
    },
    {
      "cell_type": "markdown",
      "metadata": {
        "id": "hiMTRrPWIq2S",
        "colab_type": "text"
      },
      "source": [
        "Model structure:\n",
        " - Linear stack of layers.\n",
        " - The first hidden unit receives the train data, has activation function relu, and outputs (512,)\n",
        " - The output unit ouputs a 10D vector for each data point by function softmax\n",
        "\n",
        "The optimizer rmsprop performs better than pure stochastic gradient descent. We don't fine tuning the learning rate here.\n",
        "\n",
        "Due to the nature of softmax, loss function based on maximum likelihood is a good choice\n",
        "\n",
        "Metrics doesn't contribute anything but represents the final quality of trained model.\n",
        "\n",
        "Train model. Batch size is the size of data that loss function works on and sends feedback to the optimizer.\n",
        "\n",
        "\n",
        "*The training accuracy is 90%, which proves the power of neural network. *\n",
        " "
      ]
    },
    {
      "cell_type": "code",
      "metadata": {
        "id": "lOtcJdnXKTIx",
        "colab_type": "code",
        "colab": {
          "base_uri": "https://localhost:8080/",
          "height": 52
        },
        "outputId": "e73faf06-4225-45d4-de4f-577ee0bdb987"
      },
      "source": [
        "model.evaluate(test_data,test_label)\n"
      ],
      "execution_count": 9,
      "outputs": [
        {
          "output_type": "stream",
          "text": [
            "10000/10000 [==============================] - 1s 57us/step\n"
          ],
          "name": "stdout"
        },
        {
          "output_type": "execute_result",
          "data": {
            "text/plain": [
              "[0.30260811639428137, 0.9131]"
            ]
          },
          "metadata": {
            "tags": []
          },
          "execution_count": 9
        }
      ]
    },
    {
      "cell_type": "markdown",
      "metadata": {
        "id": "XmBJl2WfKmqN",
        "colab_type": "text"
      },
      "source": [
        "The generalization is quite good 91%"
      ]
    },
    {
      "cell_type": "code",
      "metadata": {
        "id": "WtZ6R5IJK8Md",
        "colab_type": "code",
        "colab": {
          "base_uri": "https://localhost:8080/",
          "height": 87
        },
        "outputId": "59b73893-e535-46fb-e2f2-6e477b648543"
      },
      "source": [
        "pred=model.predict(test_data[0:1])\n",
        "print(\"Output of the first data point in test set:\",pred)\n",
        "print(\"Predicted label:\",pred.argmax())\n",
        "print(test_label[0])"
      ],
      "execution_count": 12,
      "outputs": [
        {
          "output_type": "stream",
          "text": [
            "Output of the first data point in test set: [[3.6634458e-05 3.5170903e-08 1.7223903e-05 3.7405707e-04 1.0641301e-06\n",
            "  2.5084903e-05 6.1402967e-09 9.9819070e-01 7.5834660e-06 1.3474977e-03]]\n",
            "Predicted label: 7\n",
            "[0. 0. 0. 0. 0. 0. 0. 1. 0. 0.]\n"
          ],
          "name": "stdout"
        }
      ]
    },
    {
      "cell_type": "markdown",
      "metadata": {
        "id": "_K29orvtLIme",
        "colab_type": "text"
      },
      "source": [
        "Given an input, softmax produces the probabilities of belonging to labels\n",
        "The above is a true prediction."
      ]
    }
  ]
}